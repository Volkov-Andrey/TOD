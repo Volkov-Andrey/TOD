{
 "cells": [
  {
   "cell_type": "markdown",
   "metadata": {},
   "source": [
    "# Numpy"
   ]
  },
  {
   "cell_type": "markdown",
   "metadata": {},
   "source": [
    "Материалы:\n",
    "* Макрушин С.В. \"Лекция 1: Библиотека Numpy\"\n",
    "* https://numpy.org/doc/stable/user/index.html\n",
    "* https://numpy.org/doc/stable/reference/index.html"
   ]
  },
  {
   "cell_type": "markdown",
   "metadata": {},
   "source": [
    "## Задачи для совместного разбора"
   ]
  },
  {
   "cell_type": "markdown",
   "metadata": {},
   "source": [
    "1. Сгенерировать двухмерный массив `arr` размерности (4, 7), состоящий из случайных действительных чисел, равномерно распределенных в диапазоне от 0 до 20. Нормализовать значения массива с помощью преобразования вида  $𝑎𝑥+𝑏$  так, что после нормализации максимальный элемент масcива будет равен 1.0, минимальный 0.0"
   ]
  },
  {
   "cell_type": "code",
   "execution_count": null,
   "metadata": {},
   "outputs": [],
   "source": []
  },
  {
   "cell_type": "markdown",
   "metadata": {},
   "source": [
    "2. Создать матрицу 8 на 10 из случайных целых (используя модуль `numpy.random`) чисел из диапозона от 0 до 10 и найти в ней строку (ее индекс и вывести саму строку), в которой сумма значений минимальна."
   ]
  },
  {
   "cell_type": "markdown",
   "metadata": {},
   "source": [
    "3. Найти евклидово расстояние между двумя одномерными векторами одинаковой размерности."
   ]
  },
  {
   "cell_type": "markdown",
   "metadata": {},
   "source": [
    "4. Решить матричное уравнение `A*X*B=-C` - найти матрицу `X`. Где `A = [[-1, 2, 4], [-3, 1, 2], [-3, 0, 1]]`, `B=[[3, -1], [2, 1]]`, `C=[[7, 21], [11, 8], [8, 4]]`."
   ]
  },
  {
   "cell_type": "markdown",
   "metadata": {},
   "source": [
    "## Лабораторная работа №1"
   ]
  },
  {
   "cell_type": "markdown",
   "metadata": {},
   "source": [
    "Замечание: при решении данных задач не подразумевается использования циклов или генераторов Python, если в задании не сказано обратного. Решение должно опираться на использования функционала библиотеки `numpy`."
   ]
  },
  {
   "cell_type": "markdown",
   "metadata": {},
   "source": [
    "1. Файл `minutes_n_ingredients.csv` содержит информацию об идентификаторе рецепта, времени его выполнения в минутах и количестве необходимых ингредиентов. Считайте данные из этого файла в виде массива `numpy` типа `int32`, используя `np.loadtxt`. Выведите на экран первые 5 строк массива."
   ]
  },
  {
   "cell_type": "markdown",
   "metadata": {},
   "source": [
    "2. Вычислите среднее значение, минимум, максимум и медиану по каждому из столбцов, кроме первого."
   ]
  },
  {
   "cell_type": "markdown",
   "metadata": {},
   "source": [
    "3. Ограничьте сверху значения продолжительности выполнения рецепта значением квантиля $q_{0.75}$. "
   ]
  },
  {
   "cell_type": "markdown",
   "metadata": {},
   "source": [
    "4. Посчитайте, для скольких рецептов указана продолжительность, равная нулю. Замените для таких строк значение в данном столбце на 1."
   ]
  },
  {
   "cell_type": "markdown",
   "metadata": {},
   "source": [
    "5. Посчитайте, сколько уникальных рецептов находится в датасете."
   ]
  },
  {
   "cell_type": "markdown",
   "metadata": {},
   "source": [
    "6. Сколько и каких различных значений кол-ва ингредиентов присутвует в рецептах из датасета?"
   ]
  },
  {
   "cell_type": "markdown",
   "metadata": {},
   "source": [
    "7. Создайте версию массива, содержащую информацию только о рецептах, состоящих не более чем из 5 ингредиентов."
   ]
  },
  {
   "cell_type": "markdown",
   "metadata": {},
   "source": [
    "8. Для каждого рецепта посчитайте, сколько в среднем ингредиентов приходится на одну минуту рецепта. Найдите максимальное значение этой величины для всего датасета"
   ]
  },
  {
   "cell_type": "markdown",
   "metadata": {},
   "source": [
    "9. Вычислите среднее количество ингредиентов для топ-100 рецептов с наибольшей продолжительностью"
   ]
  },
  {
   "cell_type": "markdown",
   "metadata": {},
   "source": [
    "10. Выберите случайным образом и выведите информацию о 10 различных рецептах"
   ]
  },
  {
   "cell_type": "markdown",
   "metadata": {},
   "source": [
    "11. Выведите процент рецептов, кол-во ингредиентов в которых меньше среднего."
   ]
  },
  {
   "cell_type": "markdown",
   "metadata": {},
   "source": [
    "12. Назовем \"простым\" такой рецепт, длительность выполнения которого не больше 20 минут и кол-во ингредиентов в котором не больше 5. Создайте версию датасета с дополнительным столбцом, значениями которого являются 1, если рецепт простой, и 0 в противном случае."
   ]
  },
  {
   "cell_type": "markdown",
   "metadata": {},
   "source": [
    "13. Выведите процент \"простых\" рецептов в датасете"
   ]
  },
  {
   "cell_type": "markdown",
   "metadata": {},
   "source": [
    "14. Разделим рецепты на группы по следующему правилу. Назовем рецепты короткими, если их продолжительность составляет менее 10 минут; стандартными, если их продолжительность составляет более 10, но менее 20 минут; и длинными, если их продолжительность составляет не менее 20 минут. Создайте трехмерный массив, где нулевая ось отвечает за номер группы (короткий, стандартный или длинный рецепт), первая ось - за сам рецепт и вторая ось - за характеристики рецепта. Выберите максимальное количество рецептов из каждой группы таким образом, чтобы было возможно сформировать трехмерный массив. Выведите форму полученного массива."
   ]
  },
  {
   "cell_type": "code",
   "execution_count": 124,
   "metadata": {},
   "outputs": [],
   "source": [
    "#1\n",
    "import numpy as np\n",
    "\n",
    "data = np.loadtxt('minutes_n_ingredients.csv', delimiter=',', skiprows=1, dtype=np.int32)"
   ]
  },
  {
   "cell_type": "code",
   "execution_count": 125,
   "metadata": {},
   "outputs": [
    {
     "name": "stdout",
     "output_type": "stream",
     "text": [
      "[[127244     60     16]\n",
      " [ 23891     25      7]\n",
      " [ 94746     10      6]\n",
      " [ 67660      5      6]\n",
      " [157911     60     14]]\n"
     ]
    }
   ],
   "source": [
    "print(data[:5])"
   ]
  },
  {
   "cell_type": "code",
   "execution_count": 126,
   "metadata": {},
   "outputs": [
    {
     "name": "stdout",
     "output_type": "stream",
     "text": [
      "[2.16010017e+04 9.05528000e+00]\n",
      "[0 1]\n",
      "[2147483647         39]\n",
      "[40.  9.]\n"
     ]
    }
   ],
   "source": [
    "#2\n",
    "print(np.mean(data[:, 1:], axis = 0)) #среднее значение\n",
    "print(np.min(data[:, 1:], axis = 0)) #минимум\n",
    "print(np.max(data[:, 1:], axis = 0)) #максимум\n",
    "print(np.median(data[:, 1:], axis = 0)) #медиана\n"
   ]
  },
  {
   "cell_type": "code",
   "execution_count": 127,
   "metadata": {},
   "outputs": [
    {
     "name": "stdout",
     "output_type": "stream",
     "text": [
      "[[81993    65    14]]\n"
     ]
    }
   ],
   "source": [
    "#3\n",
    "q75 = np.quantile(data[:, 1], 0.75)\n",
    "data[:, 1] = np.minimum(data[:, 1], q75)\n",
    "print(data[-1:])"
   ]
  },
  {
   "cell_type": "code",
   "execution_count": 128,
   "metadata": {},
   "outputs": [
    {
     "name": "stdout",
     "output_type": "stream",
     "text": [
      "479\n"
     ]
    }
   ],
   "source": [
    "#4\n",
    "count = np.count_nonzero(data[:, 1] == 0)\n",
    "if count > 0:\n",
    "    data[:, 1] = np.where(data[:, 1] == 0, 1, data[:, 1])\n",
    "print(count)"
   ]
  },
  {
   "cell_type": "code",
   "execution_count": 129,
   "metadata": {},
   "outputs": [
    {
     "name": "stdout",
     "output_type": "stream",
     "text": [
      "Количество уникальных рецептов: 100000\n"
     ]
    }
   ],
   "source": [
    "#5\n",
    "un_rcps = np.unique(data[:, 0])\n",
    "num_un_rcps = len(un_rcps)\n",
    "print('Количество уникальных рецептов:', num_un_rcps)"
   ]
  },
  {
   "cell_type": "code",
   "execution_count": 130,
   "metadata": {
    "scrolled": true
   },
   "outputs": [
    {
     "name": "stdout",
     "output_type": "stream",
     "text": [
      "[ 1  2  3  4  5  6  7  8  9 10 11 12 13 14 15 16 17 18 19 20 21 22 23 24\n",
      " 25 26 27 28 29 30 31 32 33 34 35 37 39]\n",
      "кол-во уникальных значений - 37\n"
     ]
    }
   ],
   "source": [
    "#6\n",
    "un_ing = np.unique(data[:, 2])\n",
    "print(un_ing)\n",
    "print('кол-во уникальных значений -', len(un_ing))"
   ]
  },
  {
   "cell_type": "code",
   "execution_count": 131,
   "metadata": {},
   "outputs": [
    {
     "name": "stdout",
     "output_type": "stream",
     "text": [
      "[[446597     15      5]\n",
      " [204134      5      3]\n",
      " [ 25623      6      4]\n",
      " ...\n",
      " [ 52088     60      5]\n",
      " [128811     15      4]\n",
      " [370915      5      4]]\n"
     ]
    }
   ],
   "source": [
    "#7\n",
    "print(data[data[:, 2] <= 5]) "
   ]
  },
  {
   "cell_type": "code",
   "execution_count": 132,
   "metadata": {
    "scrolled": true
   },
   "outputs": [
    {
     "name": "stdout",
     "output_type": "stream",
     "text": [
      "24.0\n"
     ]
    }
   ],
   "source": [
    "#8\n",
    "ing_per_min = data[:, 2] / data[:, 1]\n",
    "print(np.max(ing_per_min))"
   ]
  },
  {
   "cell_type": "code",
   "execution_count": 133,
   "metadata": {
    "scrolled": false
   },
   "outputs": [
    {
     "name": "stdout",
     "output_type": "stream",
     "text": [
      "9.96\n"
     ]
    }
   ],
   "source": [
    "#9\n",
    "top100_rcps = data[np.argsort(data[:, 1])[::-1][:100]] #топ 100 рецептов по длительности\n",
    "print(np.mean(top100_rcps[:, 2])) # среднее кол-во инг-тов среди топов\n"
   ]
  },
  {
   "cell_type": "code",
   "execution_count": 134,
   "metadata": {},
   "outputs": [
    {
     "name": "stdout",
     "output_type": "stream",
     "text": [
      "id рецепта: 240135, время выполнения: 2, кол-во рецептов: 4\n",
      "id рецепта: 309907, время выполнения: 35, кол-во рецептов: 10\n",
      "id рецепта: 301484, время выполнения: 55, кол-во рецептов: 12\n",
      "id рецепта: 92597, время выполнения: 40, кол-во рецептов: 10\n",
      "id рецепта: 536747, время выполнения: 65, кол-во рецептов: 20\n",
      "id рецепта: 146499, время выполнения: 15, кол-во рецептов: 9\n",
      "id рецепта: 51459, время выполнения: 65, кол-во рецептов: 8\n",
      "id рецепта: 111920, время выполнения: 50, кол-во рецептов: 13\n",
      "id рецепта: 354023, время выполнения: 35, кол-во рецептов: 13\n",
      "id рецепта: 415277, время выполнения: 65, кол-во рецептов: 9\n"
     ]
    }
   ],
   "source": [
    "#10\n",
    "random_rcps = np.random.choice(data.shape[0], 10, replace=False)\n",
    "for id in random_rcps:\n",
    "    r_id, time, ingrs = data[id]\n",
    "    print(f'id рецепта: {r_id}, время выполнения: {time}, кол-во рецептов: {ingrs}')\n",
    "    "
   ]
  },
  {
   "cell_type": "code",
   "execution_count": 135,
   "metadata": {},
   "outputs": [
    {
     "name": "stdout",
     "output_type": "stream",
     "text": [
      "58.802\n"
     ]
    }
   ],
   "source": [
    "#11\n",
    "sr = np.mean(data[:, 2])\n",
    "ings_mnsh_sr = data[data[:, 2] < sr]\n",
    "print((len(ings_mnsh_sr) / len(data)) * 100) # в процентах "
   ]
  },
  {
   "cell_type": "code",
   "execution_count": 136,
   "metadata": {},
   "outputs": [
    {
     "name": "stdout",
     "output_type": "stream",
     "text": [
      "[[127244     60     16      0]\n",
      " [ 23891     25      7      0]\n",
      " [ 94746     10      6      0]\n",
      " [ 67660      5      6      0]\n",
      " [157911     60     14      0]\n",
      " [152828     40      7      0]\n",
      " [ 33941     18      9      0]\n",
      " [446597     15      5      1]\n",
      " [366174      7      9      0]\n",
      " [ 74205     20      7      0]]\n"
     ]
    }
   ],
   "source": [
    "#12\n",
    "simp_rcp = ((data[:, 1] <= 20) & (data[:, 2] <= 5)).astype(int)\n",
    "\n",
    "data_with_simp_cl = np.column_stack((data, simp_rcp))\n",
    "print(data_with_simp_cl[:10])"
   ]
  },
  {
   "cell_type": "code",
   "execution_count": 137,
   "metadata": {},
   "outputs": [
    {
     "name": "stdout",
     "output_type": "stream",
     "text": [
      "9.552 %\n"
     ]
    }
   ],
   "source": [
    "#13\n",
    "print(np.mean(simp_rcp) * 100, '%')"
   ]
  },
  {
   "cell_type": "code",
   "execution_count": 138,
   "metadata": {},
   "outputs": [
    {
     "name": "stdout",
     "output_type": "stream",
     "text": [
      "[[[ 67660      5      6]\n",
      "  [366174      7      9]\n",
      "  [204134      5      3]\n",
      "  ...\n",
      "  [420725      5      3]\n",
      "  [  4747      1      9]\n",
      "  [370915      5      4]]\n",
      "\n",
      " [[ 94746     10      6]\n",
      "  [ 33941     18      9]\n",
      "  [446597     15      5]\n",
      "  ...\n",
      "  [  9831     15      7]\n",
      "  [335859     12     14]\n",
      "  [256812     10      3]]\n",
      "\n",
      " [[127244     60     16]\n",
      "  [ 23891     25      7]\n",
      "  [157911     60     14]\n",
      "  ...\n",
      "  [168901     25      7]\n",
      "  [392339     35     13]\n",
      "  [206732     45     10]]]\n",
      "(3, 7588, 3)\n"
     ]
    }
   ],
   "source": [
    "#14\n",
    "short_rcps = data[data[:, 1] < 10]\n",
    "standard_rcps = data[(data[:, 1] >= 10) & (data[:, 1] < 20)]\n",
    "long_rcps = data[data[:, 1] >= 20]\n",
    "\n",
    "max_len = min(len(short_rcps), len(standard_rcps), len(long_rcps)) #максимальное кол-во рецептов в каждой группе\n",
    "\n",
    "grouped_recipes = np.zeros((3, max_len, 3), dtype=int)\n",
    "grouped_recipes[0, :len(short_rcps[:max_len])] = short_rcps[:max_len]\n",
    "grouped_recipes[1, :len(standard_rcps[:max_len])] = standard_rcps[:max_len]\n",
    "grouped_recipes[2, :len(long_rcps[:max_len])] = long_rcps[:max_len]\n",
    "\n",
    "print(grouped_recipes)\n",
    "print(grouped_recipes.shape)"
   ]
  }
 ],
 "metadata": {
  "kernelspec": {
   "display_name": "Python 3 (ipykernel)",
   "language": "python",
   "name": "python3"
  },
  "language_info": {
   "codemirror_mode": {
    "name": "ipython",
    "version": 3
   },
   "file_extension": ".py",
   "mimetype": "text/x-python",
   "name": "python",
   "nbconvert_exporter": "python",
   "pygments_lexer": "ipython3",
   "version": "3.11.5"
  }
 },
 "nbformat": 4,
 "nbformat_minor": 4
}
