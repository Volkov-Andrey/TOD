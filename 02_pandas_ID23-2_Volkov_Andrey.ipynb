{
 "cells": [
  {
   "cell_type": "markdown",
   "metadata": {},
   "source": [
    "# Pandas"
   ]
  },
  {
   "cell_type": "markdown",
   "metadata": {},
   "source": [
    "Материалы:\n",
    "* Макрушин С.В. \"Лекция 2: Библиотека Pandas\"\n",
    "* https://pandas.pydata.org/docs/user_guide/index.html#\n",
    "* https://pandas.pydata.org/docs/reference/index.html\n",
    "* Уэс Маккини. Python и анализ данных"
   ]
  },
  {
   "cell_type": "markdown",
   "metadata": {},
   "source": [
    "## Задачи для совместного разбора"
   ]
  },
  {
   "cell_type": "markdown",
   "metadata": {},
   "source": [
    "1. Загрузите данные из файла `sp500hst.txt` и обозначьте столбцы в соответствии с содержимым: `\"date\", \"ticker\", \"open\", \"high\", \"low\", \"close\", \"volume\"`."
   ]
  },
  {
   "cell_type": "markdown",
   "metadata": {},
   "source": [
    "2. Рассчитайте среднее значение показателей для каждого из столбцов c номерами 3-6."
   ]
  },
  {
   "cell_type": "markdown",
   "metadata": {},
   "source": [
    "3. Добавьте столбец, содержащий только число месяца, к которому относится дата."
   ]
  },
  {
   "cell_type": "markdown",
   "metadata": {},
   "source": [
    "4. Рассчитайте суммарный объем торгов для для одинаковых значений тикеров."
   ]
  },
  {
   "cell_type": "markdown",
   "metadata": {},
   "source": [
    "5. Загрузите данные из файла sp500hst.txt и обозначьте столбцы в соответствии с содержимым: \"date\", \"ticker\", \"open\", \"high\", \"low\", \"close\", \"volume\". Добавьте столбец с расшифровкой названия тикера, используя данные из файла `sp_data2.csv` . В случае нехватки данных об именах тикеров корректно обработать их."
   ]
  },
  {
   "cell_type": "markdown",
   "metadata": {},
   "source": [
    "## Лабораторная работа №2"
   ]
  },
  {
   "cell_type": "markdown",
   "metadata": {},
   "source": [
    "### Базовые операции с `DataFrame`"
   ]
  },
  {
   "cell_type": "markdown",
   "metadata": {},
   "source": [
    "1.1 В файлах `recipes_sample.csv` и `reviews_sample.csv` находится информация об рецептах блюд и отзывах на эти рецепты соответственно. Загрузите данные из файлов в виде `pd.DataFrame` с названиями `recipes` и `reviews`. Обратите внимание на корректное считывание столбца с индексами в таблице `reviews` (безымянный столбец)."
   ]
  },
  {
   "cell_type": "code",
   "execution_count": 1,
   "metadata": {},
   "outputs": [],
   "source": [
    "import pandas as pd\n",
    "\n",
    "# Загрузка данных из файла recipes_sample.csv в DataFrame recipes\n",
    "recipes = pd.read_csv('recipes_sample.csv')\n",
    "\n",
    "# Загрузка данных из файла reviews_sample.csv в DataFrame reviews с корректным считыванием столбца с индексами\n",
    "reviews = pd.read_csv('reviews_sample.csv', index_col=0)"
   ]
  },
  {
   "cell_type": "markdown",
   "metadata": {},
   "source": [
    "1.2 Для каждой из таблиц выведите основные параметры:\n",
    "* количество точек данных (строк);\n",
    "* количество столбцов;\n",
    "* тип данных каждого столбца."
   ]
  },
  {
   "cell_type": "code",
   "execution_count": 2,
   "metadata": {},
   "outputs": [
    {
     "name": "stdout",
     "output_type": "stream",
     "text": [
      "Основные параметры для таблицы recipes:\n",
      "Количество точек данных (строк): 30000\n",
      "Количество столбцов: 8\n",
      "Тип данных каждого столбца:\n",
      "name               object\n",
      "id                  int64\n",
      "minutes             int64\n",
      "contributor_id      int64\n",
      "submitted          object\n",
      "n_steps           float64\n",
      "description        object\n",
      "n_ingredients     float64\n",
      "dtype: object\n",
      "\n",
      "Основные параметры для таблицы reviews:\n",
      "Количество точек данных (строк): 126696\n",
      "Количество столбцов: 5\n",
      "Тип данных каждого столбца:\n",
      "user_id       int64\n",
      "recipe_id     int64\n",
      "date         object\n",
      "rating        int64\n",
      "review       object\n",
      "dtype: object\n"
     ]
    }
   ],
   "source": [
    "# Для таблицы recipes\n",
    "print(\"Основные параметры для таблицы recipes:\")\n",
    "print(\"Количество точек данных (строк):\", recipes.shape[0])\n",
    "print(\"Количество столбцов:\", recipes.shape[1])\n",
    "print(\"Тип данных каждого столбца:\")\n",
    "print(recipes.dtypes)\n",
    "\n",
    "# Для таблицы reviews\n",
    "print(\"\\nОсновные параметры для таблицы reviews:\")\n",
    "print(\"Количество точек данных (строк):\", reviews.shape[0])\n",
    "print(\"Количество столбцов:\", reviews.shape[1])\n",
    "print(\"Тип данных каждого столбца:\")\n",
    "print(reviews.dtypes)"
   ]
  },
  {
   "cell_type": "markdown",
   "metadata": {},
   "source": [
    "1.3 Исследуйте, в каких столбцах таблиц содержатся пропуски. Посчитайте долю строк, содержащих пропуски, в отношении к общему количеству строк."
   ]
  },
  {
   "cell_type": "code",
   "execution_count": 3,
   "metadata": {},
   "outputs": [
    {
     "name": "stdout",
     "output_type": "stream",
     "text": [
      "Столбцы с пропусками в таблице recipes:\n",
      "Index(['n_steps', 'description', 'n_ingredients'], dtype='object')\n",
      "Доля строк с пропусками в таблице recipes: 0.5684666666666667\n",
      "\n",
      "Столбцы с пропусками в таблице reviews:\n",
      "Index(['review'], dtype='object')\n",
      "Доля строк с пропусками в таблице reviews: 0.00013417945317926376\n"
     ]
    }
   ],
   "source": [
    "# Нахождение столбцов с пропусками в таблице recipes\n",
    "missing_columns_recipes = recipes.columns[recipes.isnull().any()]\n",
    "# Доля строк с пропусками\n",
    "missing_rows_ratio_recipes = recipes.isnull().any(axis=1).sum() / recipes.shape[0]\n",
    "\n",
    "# Нахождение столбцов с пропусками в таблице reviews\n",
    "missing_columns_reviews = reviews.columns[reviews.isnull().any()]\n",
    "# Доля строк с пропусками\n",
    "missing_rows_ratio_reviews = reviews.isnull().any(axis=1).sum() / reviews.shape[0]\n",
    "\n",
    "print(\"Столбцы с пропусками в таблице recipes:\")\n",
    "print(missing_columns_recipes)\n",
    "print(\"Доля строк с пропусками в таблице recipes:\", missing_rows_ratio_recipes)\n",
    "\n",
    "print(\"\\nСтолбцы с пропусками в таблице reviews:\")\n",
    "print(missing_columns_reviews)\n",
    "print(\"Доля строк с пропусками в таблице reviews:\", missing_rows_ratio_reviews)"
   ]
  },
  {
   "cell_type": "markdown",
   "metadata": {},
   "source": [
    "1.4 Рассчитайте среднее значение для каждого из числовых столбцов (где это имеет смысл)."
   ]
  },
  {
   "cell_type": "code",
   "execution_count": 4,
   "metadata": {},
   "outputs": [
    {
     "name": "stdout",
     "output_type": "stream",
     "text": [
      "\n",
      "Средние значения для числовых столбцов в таблице reviews:\n",
      "user_id      1.408013e+08\n",
      "recipe_id    1.600944e+05\n",
      "rating       4.410802e+00\n",
      "dtype: float64\n",
      "Средние значения для числовых столбцов в таблице recipes:\n",
      "id                2.218793e+05\n",
      "minutes           1.233581e+02\n",
      "contributor_id    5.635901e+06\n",
      "n_steps           9.805582e+00\n",
      "n_ingredients     9.008286e+00\n",
      "dtype: float64\n"
     ]
    }
   ],
   "source": [
    "mean_values_recipes = recipes.select_dtypes(include=['int', 'float']).mean() #для числовых столбцов в таблице recipes\n",
    "mean_values_reviews = reviews.select_dtypes(include=['int', 'float']).mean() #для числовых столбцов в таблице reviews\n",
    "\n",
    "print(\"\\nСредние значения для числовых столбцов в таблице reviews:\")\n",
    "print(mean_values_reviews)\n",
    "print(\"Средние значения для числовых столбцов в таблице recipes:\")\n",
    "print(mean_values_recipes)"
   ]
  },
  {
   "cell_type": "markdown",
   "metadata": {},
   "source": [
    "1.5 Создайте серию из 10 случайных названий рецептов."
   ]
  },
  {
   "cell_type": "code",
   "execution_count": 7,
   "metadata": {
    "scrolled": true
   },
   "outputs": [
    {
     "name": "stdout",
     "output_type": "stream",
     "text": [
      "10747                           fantastic banana fruitcake\n",
      "12573                greek orzo salad w  kalamata and feta\n",
      "29676                    yet   another tater tot casserole\n",
      "8856                   crusty parmesan herb zucchini bites\n",
      "21098                                     pomegranate duck\n",
      "17458                     mexican chicken   bean casserole\n",
      "1476                             avocado and tomatillo dip\n",
      "5120     cheese and squeeze   cheddar and beef   biscui...\n",
      "18338                            mushroom sesame tofu soup\n",
      "28279    tuscan t  bone steak  or  bistecca alla fioren...\n",
      "Name: name, dtype: object\n"
     ]
    }
   ],
   "source": [
    "import random\n",
    "random_recipe_names = recipes['name'].sample(10, random_state=1)\n",
    "print(random_recipe_names)"
   ]
  },
  {
   "cell_type": "markdown",
   "metadata": {},
   "source": [
    "1.6 Измените индекс в таблице `reviews`, пронумеровав строки, начиная с нуля."
   ]
  },
  {
   "cell_type": "code",
   "execution_count": 10,
   "metadata": {},
   "outputs": [
    {
     "data": {
      "text/html": [
       "<div>\n",
       "<style scoped>\n",
       "    .dataframe tbody tr th:only-of-type {\n",
       "        vertical-align: middle;\n",
       "    }\n",
       "\n",
       "    .dataframe tbody tr th {\n",
       "        vertical-align: top;\n",
       "    }\n",
       "\n",
       "    .dataframe thead th {\n",
       "        text-align: right;\n",
       "    }\n",
       "</style>\n",
       "<table border=\"1\" class=\"dataframe\">\n",
       "  <thead>\n",
       "    <tr style=\"text-align: right;\">\n",
       "      <th></th>\n",
       "      <th>user_id</th>\n",
       "      <th>recipe_id</th>\n",
       "      <th>date</th>\n",
       "      <th>rating</th>\n",
       "      <th>review</th>\n",
       "    </tr>\n",
       "  </thead>\n",
       "  <tbody>\n",
       "    <tr>\n",
       "      <th>0</th>\n",
       "      <td>21752</td>\n",
       "      <td>57993</td>\n",
       "      <td>2003-05-01</td>\n",
       "      <td>5</td>\n",
       "      <td>Last week whole sides of frozen salmon fillet ...</td>\n",
       "    </tr>\n",
       "    <tr>\n",
       "      <th>1</th>\n",
       "      <td>431813</td>\n",
       "      <td>142201</td>\n",
       "      <td>2007-09-16</td>\n",
       "      <td>5</td>\n",
       "      <td>So simple and so tasty!  I used a yellow capsi...</td>\n",
       "    </tr>\n",
       "    <tr>\n",
       "      <th>2</th>\n",
       "      <td>400708</td>\n",
       "      <td>252013</td>\n",
       "      <td>2008-01-10</td>\n",
       "      <td>4</td>\n",
       "      <td>Very nice breakfast HH, easy to make and yummy...</td>\n",
       "    </tr>\n",
       "    <tr>\n",
       "      <th>3</th>\n",
       "      <td>2001852463</td>\n",
       "      <td>404716</td>\n",
       "      <td>2017-12-11</td>\n",
       "      <td>5</td>\n",
       "      <td>These are a favorite for the holidays and so e...</td>\n",
       "    </tr>\n",
       "    <tr>\n",
       "      <th>4</th>\n",
       "      <td>95810</td>\n",
       "      <td>129396</td>\n",
       "      <td>2008-03-14</td>\n",
       "      <td>5</td>\n",
       "      <td>Excellent soup!  The tomato flavor is just gre...</td>\n",
       "    </tr>\n",
       "    <tr>\n",
       "      <th>5</th>\n",
       "      <td>35106</td>\n",
       "      <td>31322</td>\n",
       "      <td>2003-01-03</td>\n",
       "      <td>4</td>\n",
       "      <td>I forgot to add skim milk but it still tasted ...</td>\n",
       "    </tr>\n",
       "    <tr>\n",
       "      <th>6</th>\n",
       "      <td>404333</td>\n",
       "      <td>199579</td>\n",
       "      <td>2006-12-10</td>\n",
       "      <td>5</td>\n",
       "      <td>Made this for dinner it was so excellent, fina...</td>\n",
       "    </tr>\n",
       "    <tr>\n",
       "      <th>7</th>\n",
       "      <td>162888</td>\n",
       "      <td>16067</td>\n",
       "      <td>2005-12-09</td>\n",
       "      <td>5</td>\n",
       "      <td>When I snapped the picture, I forgot to review...</td>\n",
       "    </tr>\n",
       "    <tr>\n",
       "      <th>8</th>\n",
       "      <td>89831</td>\n",
       "      <td>33715</td>\n",
       "      <td>2007-07-03</td>\n",
       "      <td>5</td>\n",
       "      <td>This was good combination of flavors but I wil...</td>\n",
       "    </tr>\n",
       "    <tr>\n",
       "      <th>9</th>\n",
       "      <td>308434</td>\n",
       "      <td>11252</td>\n",
       "      <td>2008-12-14</td>\n",
       "      <td>5</td>\n",
       "      <td>Oh Bergy!  These wonderful little cakes are aw...</td>\n",
       "    </tr>\n",
       "    <tr>\n",
       "      <th>10</th>\n",
       "      <td>151754</td>\n",
       "      <td>285773</td>\n",
       "      <td>2008-09-04</td>\n",
       "      <td>0</td>\n",
       "      <td>This was a very moist cornbread, even two days...</td>\n",
       "    </tr>\n",
       "  </tbody>\n",
       "</table>\n",
       "</div>"
      ],
      "text/plain": [
       "       user_id  recipe_id        date  rating  \\\n",
       "0        21752      57993  2003-05-01       5   \n",
       "1       431813     142201  2007-09-16       5   \n",
       "2       400708     252013  2008-01-10       4   \n",
       "3   2001852463     404716  2017-12-11       5   \n",
       "4        95810     129396  2008-03-14       5   \n",
       "5        35106      31322  2003-01-03       4   \n",
       "6       404333     199579  2006-12-10       5   \n",
       "7       162888      16067  2005-12-09       5   \n",
       "8        89831      33715  2007-07-03       5   \n",
       "9       308434      11252  2008-12-14       5   \n",
       "10      151754     285773  2008-09-04       0   \n",
       "\n",
       "                                               review  \n",
       "0   Last week whole sides of frozen salmon fillet ...  \n",
       "1   So simple and so tasty!  I used a yellow capsi...  \n",
       "2   Very nice breakfast HH, easy to make and yummy...  \n",
       "3   These are a favorite for the holidays and so e...  \n",
       "4   Excellent soup!  The tomato flavor is just gre...  \n",
       "5   I forgot to add skim milk but it still tasted ...  \n",
       "6   Made this for dinner it was so excellent, fina...  \n",
       "7   When I snapped the picture, I forgot to review...  \n",
       "8   This was good combination of flavors but I wil...  \n",
       "9   Oh Bergy!  These wonderful little cakes are aw...  \n",
       "10  This was a very moist cornbread, even two days...  "
      ]
     },
     "execution_count": 10,
     "metadata": {},
     "output_type": "execute_result"
    }
   ],
   "source": [
    "reviews.reset_index(drop=True, inplace=True)\n",
    "reviews [:11]"
   ]
  },
  {
   "cell_type": "markdown",
   "metadata": {},
   "source": [
    "1.7 Выведите информацию о рецептах, время выполнения которых не больше 20 минут и кол-во ингредиентов в которых не больше 5."
   ]
  },
  {
   "cell_type": "code",
   "execution_count": 11,
   "metadata": {},
   "outputs": [
    {
     "name": "stdout",
     "output_type": "stream",
     "text": [
      "                                                    name      id  minutes  \\\n",
      "28                                   quick biscuit bread  302399       20   \n",
      "60                         peas  fit for a king or queen  303944       20   \n",
      "90                     hawaiian sunrise           mimosa  100837        5   \n",
      "91            tasty dish s   banana pudding in 2 minutes  286484        2   \n",
      "94                                    1 minute meatballs   11361       13   \n",
      "...                                                  ...     ...      ...   \n",
      "29873  zip and steam red potatoes with butter and garlic  304922       13   \n",
      "29874                          ziplock vanilla ice cream   74250       10   \n",
      "29905                      zucchini and corn with cheese  256177       15   \n",
      "29980               zucchini with jalapeno monterey jack  320622       10   \n",
      "29983                          zucchini with serrano ham  162411       15   \n",
      "\n",
      "       contributor_id   submitted  n_steps  \\\n",
      "28             213909  2008-05-06     11.0   \n",
      "60             213909  2008-05-16      NaN   \n",
      "90              58104  2004-09-29      4.0   \n",
      "91              47892  2008-02-13      NaN   \n",
      "94               4470  2001-09-03      NaN   \n",
      "...               ...         ...      ...   \n",
      "29873          724218  2008-05-27      9.0   \n",
      "29874           24386  2003-10-29      8.0   \n",
      "29905          305531  2007-09-29      4.0   \n",
      "29980          305531  2008-08-20      3.0   \n",
      "29983          152500  2006-03-31      6.0   \n",
      "\n",
      "                                             description  n_ingredients  \n",
      "28     this is a wonderful quick bread to make as an ...            5.0  \n",
      "60     this recipe is so simple and the flavors are s...            5.0  \n",
      "90     pineapple mimosa was changed to hawaiian sunri...            3.0  \n",
      "91     \"mmmm, i love bananas!\" a --tasty dish-- origi...            4.0  \n",
      "94     this is a real short cut for cooks in a hurry....            2.0  \n",
      "...                                                  ...            ...  \n",
      "29873  i haven't tried this yet, but i am going to so...            5.0  \n",
      "29874  a fun thing for kids to do. may want to use mi...            3.0  \n",
      "29905  from betty crocker fresh spring recipes. i lik...            5.0  \n",
      "29980                                  simple and yummy!            3.0  \n",
      "29983  this dish is from tim malzer, a german chef wh...            5.0  \n",
      "\n",
      "[2019 rows x 8 columns]\n"
     ]
    }
   ],
   "source": [
    "filtered_recipes = recipes[(recipes['minutes'] <= 20) & (recipes['n_ingredients'] <= 5)]\n",
    "print(filtered_recipes)"
   ]
  },
  {
   "cell_type": "markdown",
   "metadata": {},
   "source": [
    "### Работа с датами в `pandas`"
   ]
  },
  {
   "cell_type": "markdown",
   "metadata": {},
   "source": [
    "2.1 Преобразуйте столбец `submitted` из таблицы `recipes` в формат времени. Модифицируйте решение задачи 1.1 так, чтобы считать столбец сразу в нужном формате."
   ]
  },
  {
   "cell_type": "code",
   "execution_count": 45,
   "metadata": {
    "scrolled": true
   },
   "outputs": [
    {
     "name": "stdout",
     "output_type": "stream",
     "text": [
      "                                       name     id  minutes  contributor_id  \\\n",
      "0     George S At The Cove  Black Bean Soup  44123       90           35193   \n",
      "1        Healthy For Them  Yogurt Popsicles  67664       10           91970   \n",
      "2              I Can T Believe It S Spinach  38798       30            1533   \n",
      "3                      Italian  Gut Busters  35173       45           22724   \n",
      "4  Love Is In The Air  Beef Fondue   Sauces  84797       25            4470   \n",
      "\n",
      "   submitted  n_steps                                        description  \\\n",
      "0 2002-10-25      NaN  an original recipe created by chef scott meska...   \n",
      "1 2003-07-26      NaN  my children and their friends ask for my homem...   \n",
      "2 2002-08-29      NaN            these were so go, it surprised even me.   \n",
      "3 2002-07-27      NaN  my sister-in-law made these for us at a family...   \n",
      "4 2004-02-23      4.0  i think a fondue is a very romantic casual din...   \n",
      "\n",
      "   n_ingredients  description_length  name_word_count  \n",
      "0           18.0                 330                8  \n",
      "1            NaN                 255                5  \n",
      "2            8.0                  39                7  \n",
      "3            NaN                 154                3  \n",
      "4            NaN                 587                8  \n"
     ]
    }
   ],
   "source": [
    "recipes['submitted'] = pd.to_datetime(recipes['submitted'])  # Преобразование столбца с датой в формат datetime\n",
    "\n",
    "# Вывод первых строк DataFrame для проверки\n",
    "print(recipes.head())"
   ]
  },
  {
   "cell_type": "markdown",
   "metadata": {},
   "source": [
    "2.2 Выведите информацию о рецептах, добавленных в датасет не позже 2010 года."
   ]
  },
  {
   "cell_type": "code",
   "execution_count": 14,
   "metadata": {},
   "outputs": [
    {
     "name": "stdout",
     "output_type": "stream",
     "text": [
      "                                               name      id  minutes  \\\n",
      "0             george s at the cove  black bean soup   44123       90   \n",
      "1                healthy for them  yogurt popsicles   67664       10   \n",
      "2                      i can t believe it s spinach   38798       30   \n",
      "3                              italian  gut busters   35173       45   \n",
      "4          love is in the air  beef fondue   sauces   84797       25   \n",
      "...                                             ...     ...      ...   \n",
      "29993                     zuni caf zucchini pickles  316950     2895   \n",
      "29995  zurie s holey rustic olive and cheddar bread  267661       80   \n",
      "29996          zwetschgenkuchen  bavarian plum cake  386977      240   \n",
      "29997   zwiebelkuchen   southwest german onion cake  103312       75   \n",
      "29999        cookies by design   cookies on a stick  298512       29   \n",
      "\n",
      "       contributor_id  submitted  n_steps  \\\n",
      "0               35193 2002-10-25      NaN   \n",
      "1               91970 2003-07-26      NaN   \n",
      "2                1533 2002-08-29      NaN   \n",
      "3               22724 2002-07-27      NaN   \n",
      "4                4470 2004-02-23      4.0   \n",
      "...               ...        ...      ...   \n",
      "29993           62264 2008-07-31      NaN   \n",
      "29995          200862 2007-11-25     16.0   \n",
      "29996          177443 2009-08-24      NaN   \n",
      "29997          161745 2004-11-03      NaN   \n",
      "29999          506822 2008-04-15      9.0   \n",
      "\n",
      "                                             description  n_ingredients  \n",
      "0      an original recipe created by chef scott meska...           18.0  \n",
      "1      my children and their friends ask for my homem...            NaN  \n",
      "2                these were so go, it surprised even me.            8.0  \n",
      "3      my sister-in-law made these for us at a family...            NaN  \n",
      "4      i think a fondue is a very romantic casual din...            NaN  \n",
      "...                                                  ...            ...  \n",
      "29993  refrigerator pickles for some of the zucchini ...            8.0  \n",
      "29995  this is based on a french recipe but i changed...           10.0  \n",
      "29996  this is a traditional fresh plum cake, thought...           11.0  \n",
      "29997  this is a traditional late summer early fall s...            NaN  \n",
      "29999  i've heard of the 'cookies by design' company,...           10.0  \n",
      "\n",
      "[27661 rows x 8 columns]\n"
     ]
    }
   ],
   "source": [
    "old_recipes = recipes[recipes['submitted'].dt.year <= 2010]\n",
    "print(old_recipes)"
   ]
  },
  {
   "cell_type": "markdown",
   "metadata": {},
   "source": [
    "### Работа со строковыми данными в `pandas`"
   ]
  },
  {
   "cell_type": "markdown",
   "metadata": {},
   "source": [
    "3.1  Добавьте в таблицу `recipes` столбец `description_length`, в котором хранится длина описания рецепта из столбца `description`."
   ]
  },
  {
   "cell_type": "code",
   "execution_count": 15,
   "metadata": {},
   "outputs": [
    {
     "name": "stdout",
     "output_type": "stream",
     "text": [
      "                                       name     id  minutes  contributor_id  \\\n",
      "0     george s at the cove  black bean soup  44123       90           35193   \n",
      "1        healthy for them  yogurt popsicles  67664       10           91970   \n",
      "2              i can t believe it s spinach  38798       30            1533   \n",
      "3                      italian  gut busters  35173       45           22724   \n",
      "4  love is in the air  beef fondue   sauces  84797       25            4470   \n",
      "\n",
      "   submitted  n_steps                                        description  \\\n",
      "0 2002-10-25      NaN  an original recipe created by chef scott meska...   \n",
      "1 2003-07-26      NaN  my children and their friends ask for my homem...   \n",
      "2 2002-08-29      NaN            these were so go, it surprised even me.   \n",
      "3 2002-07-27      NaN  my sister-in-law made these for us at a family...   \n",
      "4 2004-02-23      4.0  i think a fondue is a very romantic casual din...   \n",
      "\n",
      "   n_ingredients  description_length  \n",
      "0           18.0                 330  \n",
      "1            NaN                 255  \n",
      "2            8.0                  39  \n",
      "3            NaN                 154  \n",
      "4            NaN                 587  \n"
     ]
    }
   ],
   "source": [
    "# Добавление столбца description_length с длиной описания рецепта\n",
    "recipes['description_length'] = recipes['description'].apply(lambda x: len(str(x)))\n",
    "\n",
    "# Вывод обновленной таблицы для проверки\n",
    "print(recipes.head())"
   ]
  },
  {
   "cell_type": "markdown",
   "metadata": {},
   "source": [
    "3.2 Измените название каждого рецепта в таблице `recipes` таким образом, чтобы каждое слово в названии начиналось с прописной буквы."
   ]
  },
  {
   "cell_type": "code",
   "execution_count": 16,
   "metadata": {},
   "outputs": [
    {
     "name": "stdout",
     "output_type": "stream",
     "text": [
      "0               George S At The Cove  Black Bean Soup\n",
      "1                  Healthy For Them  Yogurt Popsicles\n",
      "2                        I Can T Believe It S Spinach\n",
      "3                                Italian  Gut Busters\n",
      "4            Love Is In The Air  Beef Fondue   Sauces\n",
      "                             ...                     \n",
      "29995    Zurie S Holey Rustic Olive And Cheddar Bread\n",
      "29996            Zwetschgenkuchen  Bavarian Plum Cake\n",
      "29997     Zwiebelkuchen   Southwest German Onion Cake\n",
      "29998                                     Zydeco Soup\n",
      "29999          Cookies By Design   Cookies On A Stick\n",
      "Name: name, Length: 30000, dtype: object\n"
     ]
    }
   ],
   "source": [
    "# Изменение названия каждого рецепта так, чтобы каждое слово начиналось с прописной буквы\n",
    "recipes['name'] = recipes['name'].apply(lambda x: x.title())\n",
    "\n",
    "# Вывод обновленной таблицы для проверки\n",
    "print(recipes['name'])"
   ]
  },
  {
   "cell_type": "markdown",
   "metadata": {},
   "source": [
    "3.3 Добавьте в таблицу `recipes` столбец `name_word_count`, в котором хранится количество слов из названии рецепта (считайте, что слова в названии разделяются только пробелами). Обратите внимание, что между словами может располагаться несколько пробелов подряд."
   ]
  },
  {
   "cell_type": "code",
   "execution_count": 17,
   "metadata": {},
   "outputs": [
    {
     "name": "stdout",
     "output_type": "stream",
     "text": [
      "                                       name  name_word_count\n",
      "0     George S At The Cove  Black Bean Soup                8\n",
      "1        Healthy For Them  Yogurt Popsicles                5\n",
      "2              I Can T Believe It S Spinach                7\n",
      "3                      Italian  Gut Busters                3\n",
      "4  Love Is In The Air  Beef Fondue   Sauces                8\n"
     ]
    }
   ],
   "source": [
    "# Добавление столбца name_word_count с количеством слов в названии рецепта\n",
    "recipes['name_word_count'] = recipes['name'].apply(lambda x: len(x.split()))\n",
    "\n",
    "# Вывод обновленной таблицы для проверки\n",
    "print(recipes[['name', 'name_word_count']].head())"
   ]
  },
  {
   "cell_type": "markdown",
   "metadata": {},
   "source": [
    "### Группировки таблиц `pd.DataFrame`"
   ]
  },
  {
   "cell_type": "markdown",
   "metadata": {},
   "source": [
    "4.1 Посчитайте количество рецептов, представленных каждым из участников (`contributor_id`). Какой участник добавил максимальное кол-во рецептов?"
   ]
  },
  {
   "cell_type": "code",
   "execution_count": 18,
   "metadata": {},
   "outputs": [
    {
     "name": "stdout",
     "output_type": "stream",
     "text": [
      "Количество рецептов, представленных каждым участником: contributor_id\n",
      "89831      421\n",
      "37449      346\n",
      "37779      345\n",
      "1533       186\n",
      "169430     183\n",
      "          ... \n",
      "1061628      1\n",
      "1076183      1\n",
      "429061       1\n",
      "64032        1\n",
      "186118       1\n",
      "Name: count, Length: 8404, dtype: int64\n",
      "\n",
      "Участник, который добавил максимальное количество рецептов (contributor_id): 89831\n"
     ]
    }
   ],
   "source": [
    "# Подсчет количества рецептов, представленных каждым участником\n",
    "recipes_per_contributor = recipes['contributor_id'].value_counts()\n",
    "\n",
    "# Определение участника, который добавил максимальное количество рецептов\n",
    "max_recipes_contributor = recipes_per_contributor.idxmax()\n",
    "\n",
    "print(\"Количество рецептов, представленных каждым участником:\", recipes_per_contributor)\n",
    "print(\"\\nУчастник, который добавил максимальное количество рецептов (contributor_id):\", max_recipes_contributor)"
   ]
  },
  {
   "cell_type": "markdown",
   "metadata": {},
   "source": [
    "4.2 Посчитайте средний рейтинг к каждому из рецептов. Для скольких рецептов отсутствуют отзывы? Обратите внимание, что отзыв с нулевым рейтингом или не заполненным текстовым описанием не считается отсутствующим."
   ]
  },
  {
   "cell_type": "code",
   "execution_count": 33,
   "metadata": {},
   "outputs": [
    {
     "name": "stdout",
     "output_type": "stream",
     "text": [
      "Средний рейтинг для каждого рецепта:\n"
     ]
    },
    {
     "ename": "TypeError",
     "evalue": "Series.sort_index() takes 1 positional argument but 2 were given",
     "output_type": "error",
     "traceback": [
      "\u001b[1;31m---------------------------------------------------------------------------\u001b[0m",
      "\u001b[1;31mTypeError\u001b[0m                                 Traceback (most recent call last)",
      "Cell \u001b[1;32mIn[33], line 8\u001b[0m\n\u001b[0;32m      5\u001b[0m recipes_without_reviews \u001b[38;5;241m=\u001b[39m recipes[\u001b[38;5;241m~\u001b[39mrecipes[\u001b[38;5;124m'\u001b[39m\u001b[38;5;124mid\u001b[39m\u001b[38;5;124m'\u001b[39m]\u001b[38;5;241m.\u001b[39misin(reviews[\u001b[38;5;124m'\u001b[39m\u001b[38;5;124mrecipe_id\u001b[39m\u001b[38;5;124m'\u001b[39m])]\n\u001b[0;32m      7\u001b[0m \u001b[38;5;28mprint\u001b[39m(\u001b[38;5;124m\"\u001b[39m\u001b[38;5;124mСредний рейтинг для каждого рецепта:\u001b[39m\u001b[38;5;124m\"\u001b[39m)\n\u001b[1;32m----> 8\u001b[0m \u001b[38;5;28mprint\u001b[39m(average_rating_per_recipe\u001b[38;5;241m.\u001b[39msort_index(\u001b[38;5;124m'\u001b[39m\u001b[38;5;124mrating\u001b[39m\u001b[38;5;124m'\u001b[39m))\n\u001b[0;32m     10\u001b[0m \u001b[38;5;28mprint\u001b[39m(\u001b[38;5;124m\"\u001b[39m\u001b[38;5;130;01m\\n\u001b[39;00m\u001b[38;5;124mКоличество рецептов, для которых отсутствуют отзывы:\u001b[39m\u001b[38;5;124m\"\u001b[39m, \u001b[38;5;28mlen\u001b[39m(recipes_without_reviews))\n",
      "\u001b[1;31mTypeError\u001b[0m: Series.sort_index() takes 1 positional argument but 2 were given"
     ]
    }
   ],
   "source": [
    "# Расчет среднего рейтинга для каждого рецепта\n",
    "average_rating_per_recipe = reviews.groupby('recipe_id')['rating'].mean()\n",
    "\n",
    "# Определение количества рецептов, для которых отсутствуют отзывы\n",
    "recipes_without_reviews = recipes[~recipes['id'].isin(reviews['recipe_id'])]\n",
    "\n",
    "print(\"Средний рейтинг для каждого рецепта:\")\n",
    "print(average_rating_per_recipe.sort_index)\n",
    "\n",
    "print(\"\\nКоличество рецептов, для которых отсутствуют отзывы:\", len(recipes_without_reviews))"
   ]
  },
  {
   "cell_type": "markdown",
   "metadata": {},
   "source": [
    "4.3 Посчитайте количество рецептов с разбивкой по годам создания."
   ]
  },
  {
   "cell_type": "code",
   "execution_count": 22,
   "metadata": {},
   "outputs": [
    {
     "name": "stdout",
     "output_type": "stream",
     "text": [
      "submitted\n",
      "1999     275\n",
      "2000     104\n",
      "2001     589\n",
      "2002    2644\n",
      "2003    2334\n",
      "2004    2153\n",
      "2005    3130\n",
      "2006    3473\n",
      "2007    4429\n",
      "2008    4029\n",
      "2009    2963\n",
      "2010    1538\n",
      "2011     922\n",
      "2012     659\n",
      "2013     490\n",
      "2014     139\n",
      "2015      42\n",
      "2016      24\n",
      "2017      39\n",
      "2018      24\n",
      "Name: count, dtype: int64\n"
     ]
    }
   ],
   "source": [
    "print(recipes['submitted'].dt.year.value_counts().sort_index())"
   ]
  },
  {
   "cell_type": "markdown",
   "metadata": {},
   "source": [
    "### Объединение таблиц `pd.DataFrame`"
   ]
  },
  {
   "cell_type": "markdown",
   "metadata": {},
   "source": [
    "5.1 При помощи объединения таблиц, создайте `DataFrame`, состоящий из четырех столбцов: `id`, `name`, `user_id`, `rating`. Рецепты, на которые не оставлен ни один отзыв, должны отсутствовать в полученной таблице. Подтвердите правильность работы вашего кода, выбрав рецепт, не имеющий отзывов, и попытавшись найти строку, соответствующую этому рецепту, в полученном `DataFrame`."
   ]
  },
  {
   "cell_type": "code",
   "execution_count": 36,
   "metadata": {},
   "outputs": [
    {
     "name": "stdout",
     "output_type": "stream",
     "text": [
      "        id                                      name     user_id  rating\n",
      "0    44123     George S At The Cove  Black Bean Soup      743566       5\n",
      "1    44123     George S At The Cove  Black Bean Soup       76503       5\n",
      "2    44123     George S At The Cove  Black Bean Soup       34206       5\n",
      "3    67664        Healthy For Them  Yogurt Popsicles      494084       5\n",
      "4    67664        Healthy For Them  Yogurt Popsicles      303445       5\n",
      "5    67664        Healthy For Them  Yogurt Popsicles       32772       5\n",
      "6    67664        Healthy For Them  Yogurt Popsicles      161653       5\n",
      "7    67664        Healthy For Them  Yogurt Popsicles      124268       5\n",
      "8    67664        Healthy For Them  Yogurt Popsicles     1585803       5\n",
      "9    67664        Healthy For Them  Yogurt Popsicles      818740       5\n",
      "10   67664        Healthy For Them  Yogurt Popsicles      176615       5\n",
      "11   38798              I Can T Believe It S Spinach      125798       3\n",
      "12   38798              I Can T Believe It S Spinach      110034       4\n",
      "13   38798              I Can T Believe It S Spinach      487548       4\n",
      "14   35173                      Italian  Gut Busters       44661       4\n",
      "15   84797  Love Is In The Air  Beef Fondue   Sauces      123871       5\n",
      "16   84797  Love Is In The Air  Beef Fondue   Sauces      509740       3\n",
      "17   84797  Love Is In The Air  Beef Fondue   Sauces      110905       5\n",
      "18   84797  Love Is In The Air  Beef Fondue   Sauces      560694       5\n",
      "19   84797  Love Is In The Air  Beef Fondue   Sauces       11176       0\n",
      "20   84797  Love Is In The Air  Beef Fondue   Sauces      257993       5\n",
      "21   84797  Love Is In The Air  Beef Fondue   Sauces      198228       5\n",
      "22   84797  Love Is In The Air  Beef Fondue   Sauces      128047       4\n",
      "23   44045                  Mennonite  Corn Fritters       99872       5\n",
      "24   44045                  Mennonite  Corn Fritters      124249       5\n",
      "25   44045                  Mennonite  Corn Fritters       52073       5\n",
      "26   44045                  Mennonite  Corn Fritters      189287       4\n",
      "27   44045                  Mennonite  Corn Fritters      164890       5\n",
      "28  107229                      Open Sesame  Noodles      133842       5\n",
      "29   95926                Say What   Banana Sandwich  2000533197       5\n",
      "30   95926                Say What   Banana Sandwich      106777       5\n",
      "31   95926                Say What   Banana Sandwich  2002174000       1\n",
      "32   95926                Say What   Banana Sandwich      302815       1\n",
      "33   95926                Say What   Banana Sandwich       54271       5\n",
      "34   95926                Say What   Banana Sandwich      292308       5\n",
      "35   95926                Say What   Banana Sandwich      605574       0\n",
      "36   95926                Say What   Banana Sandwich     2879123       5\n",
      "37   95926                Say What   Banana Sandwich     2401954       5\n",
      "38   95926                Say What   Banana Sandwich       29782       5\n",
      "39   95926                Say What   Banana Sandwich     1612977       4\n",
      "40   95926                Say What   Banana Sandwich     2210747       5\n",
      "41   95926                Say What   Banana Sandwich      146637       5\n",
      "42   95926                Say What   Banana Sandwich      844554       5\n",
      "43   95926                Say What   Banana Sandwich      125808       5\n",
      "44   95926                Say What   Banana Sandwich      104621       5\n",
      "45   95926                Say What   Banana Sandwich  2000355338       5\n",
      "46   95926                Say What   Banana Sandwich      139381       5\n",
      "47   95926                Say What   Banana Sandwich     2834180       5\n",
      "48   95926                Say What   Banana Sandwich      526666       5\n",
      "49   95926                Say What   Banana Sandwich      286566       5\n",
      "Empty DataFrame\n",
      "Columns: [id, name, user_id, rating]\n",
      "Index: []\n"
     ]
    }
   ],
   "source": [
    "# Объединение таблиц recipes и reviews по столбцу recipe_id\n",
    "merged_data = pd.merge(recipes, reviews, left_on='id', right_on='recipe_id')\n",
    "\n",
    "# Фильтрация, чтобы удалить рецепты без отзывов\n",
    "filtered_data = merged_data[['id', 'name', 'user_id', 'rating']].dropna()\n",
    "\n",
    "# Проверка полученной таблицы\n",
    "print(filtered_data[:50])\n",
    "\n",
    "print(filtered_data[filtered_data['id'] == 66966])"
   ]
  },
  {
   "cell_type": "markdown",
   "metadata": {},
   "source": [
    "5.2 При помощи объединения таблиц и группировок, создайте `DataFrame`, состоящий из трех столбцов: `recipe_id`, `name`, `review_count`, где столбец `review_count` содержит кол-во отзывов, оставленных на рецепт `recipe_id`. У рецептов, на которые не оставлен ни один отзыв, в столбце `review_count` должен быть указан 0. Подтвердите правильность работы вашего кода, выбрав рецепт, не имеющий отзывов, и найдя строку, соответствующую этому рецепту, в полученном `DataFrame`."
   ]
  },
  {
   "cell_type": "code",
   "execution_count": 65,
   "metadata": {},
   "outputs": [
    {
     "name": "stdout",
     "output_type": "stream",
     "text": [
      "           id                                          name  review_count\n",
      "0       44123         George S At The Cove  Black Bean Soup           3.0\n",
      "1       67664            Healthy For Them  Yogurt Popsicles           8.0\n",
      "2       38798                  I Can T Believe It S Spinach           3.0\n",
      "3       35173                          Italian  Gut Busters           1.0\n",
      "4       84797      Love Is In The Air  Beef Fondue   Sauces           8.0\n",
      "...       ...                                           ...           ...\n",
      "29995  267661  Zurie S Holey Rustic Olive And Cheddar Bread           4.0\n",
      "29996  386977          Zwetschgenkuchen  Bavarian Plum Cake           2.0\n",
      "29997  103312   Zwiebelkuchen   Southwest German Onion Cake           6.0\n",
      "29998  486161                                   Zydeco Soup           6.0\n",
      "29999  298512        Cookies By Design   Cookies On A Stick           1.0\n",
      "\n",
      "[30000 rows x 3 columns]\n"
     ]
    }
   ],
   "source": [
    "review_counts = reviews.groupby('recipe_id').size().reset_index(name='review_count')\n",
    "\n",
    "# Объединить таблицы recipes и review_counts\n",
    "merged = pd.merge(recipes[['id', 'name']], review_counts, left_on='id', right_on='recipe_id', how='left')\n",
    "\n",
    "# Заменить пропущенные значения нулями\n",
    "merged['review_count'] = merged['review_count'].fillna(0)\n",
    "\n",
    "# Оставить только нужные столбцы\n",
    "result = merged[['id', 'name', 'review_count']]\n",
    "\n",
    "print(result)"
   ]
  },
  {
   "cell_type": "markdown",
   "metadata": {},
   "source": [
    "5.3. Выясните, рецепты, добавленные в каком году, имеют наименьший средний рейтинг?"
   ]
  },
  {
   "cell_type": "code",
   "execution_count": 51,
   "metadata": {},
   "outputs": [
    {
     "name": "stdout",
     "output_type": "stream",
     "text": [
      "Год с наименьшим средним рейтингом: 2017 год_создания\n",
      "1999    4.274895\n",
      "2000    4.284585\n",
      "2001    4.393945\n",
      "2002    4.404645\n",
      "2003    4.439152\n",
      "2004    4.463778\n",
      "2005    4.409687\n",
      "2006    4.416310\n",
      "2007    4.420073\n",
      "2008    4.387416\n",
      "2009    4.360447\n",
      "2010    4.406279\n",
      "2011    4.375850\n",
      "2012    4.412736\n",
      "2013    4.336508\n",
      "2014    4.538235\n",
      "2015    4.207317\n",
      "2016    3.538462\n",
      "2017    2.750000\n",
      "2018    3.388889\n",
      "Name: rating, dtype: float64\n"
     ]
    }
   ],
   "source": [
    "# Объединение таблиц recipes и reviews по столбцу recipe_id\n",
    "merged_data = pd.merge(recipes, reviews, left_on='id', right_on='recipe_id')\n",
    "\n",
    "# Получение года создания рецепта\n",
    "merged_data['год_создания'] = merged_data['submitted'].dt.year\n",
    "\n",
    "# Рассчет среднего рейтинга для каждого года\n",
    "average_rating_per_year = merged_data.groupby('год_создания')['rating'].mean()\n",
    "\n",
    "# Определение года с наименьшим средним рейтингом\n",
    "year_with_min_avg_rating = average_rating_per_year.idxmin()\n",
    "\n",
    "print(\"Год с наименьшим средним рейтингом:\", year_with_min_avg_rating, average_rating_per_year)"
   ]
  },
  {
   "cell_type": "markdown",
   "metadata": {},
   "source": [
    "### Сохранение таблиц `pd.DataFrame`"
   ]
  },
  {
   "cell_type": "markdown",
   "metadata": {},
   "source": [
    "6.1 Отсортируйте таблицу в порядке убывания величины столбца `name_word_count` и сохраните результаты выполнения заданий 3.1-3.3 в csv файл. "
   ]
  },
  {
   "cell_type": "code",
   "execution_count": 55,
   "metadata": {
    "scrolled": true
   },
   "outputs": [
    {
     "name": "stdout",
     "output_type": "stream",
     "text": [
      "                                                    name      id  minutes  \\\n",
      "26223  Subru Uncle S Whole Green Moong Dal I Ll Be Ma...   77188       95   \n",
      "28083  Tsr Version Of T G I  Friday S Black Bean Soup...  102274       75   \n",
      "26222  Subru Uncle S Toor Ki Dal Sindhi Style  Dad  M...   76908       65   \n",
      "27876  Top Secret Recipes Version Of  I H O P  Griddl...  113346       20   \n",
      "5734   Chicken Curry Or  Cat S Vomit On A Bed Of Magg...  294898       30   \n",
      "...                                                  ...     ...      ...   \n",
      "3253                                          Blackmoons  323195      430   \n",
      "4138                                         Bushwhacker  156521       10   \n",
      "2357                                            Basbousa   12957       60   \n",
      "15052                                          Josefinas  264859       20   \n",
      "4710                                            Caramels  143615       30   \n",
      "\n",
      "       contributor_id  submitted  n_steps  \\\n",
      "26223            6357 2003-11-21      NaN   \n",
      "28083           74652 2004-10-19      9.0   \n",
      "26222            6357 2003-11-18     29.0   \n",
      "27876          175727 2005-03-14      5.0   \n",
      "5734           802799 2008-03-28     11.0   \n",
      "...               ...        ...      ...   \n",
      "3253           415934 2008-09-04      5.0   \n",
      "4138           177392 2006-02-17      1.0   \n",
      "2357            18391 2001-10-20      NaN   \n",
      "15052          498271 2007-11-11      7.0   \n",
      "4710           212088 2005-11-02      NaN   \n",
      "\n",
      "                                             description  n_ingredients  \\\n",
      "26223  my dad and mom quite enjoy this lentil curry. ...           15.0   \n",
      "28083  from www.topsecretrecipes.com i got this copyc...           16.0   \n",
      "26222  this is the lentil curry that subru uncle(our ...           15.0   \n",
      "27876  this recipe is top secret recipes version of i...            9.0   \n",
      "5734   an old family recipe that's easy to make since...           12.0   \n",
      "...                                                  ...            ...   \n",
      "3253   my mom was a newlywed in the 1950s when she fo...            NaN   \n",
      "4138   this drink is an excellent after dinner drink ...            6.0   \n",
      "2357   this is a traditional middle eastern dessert. ...            NaN   \n",
      "15052  from the junior league of corpus christi tx, t...            NaN   \n",
      "4710   i've been making these at christmas time for y...            6.0   \n",
      "\n",
      "       description_length  name_word_count  \n",
      "26223                 343               15  \n",
      "28083                 436               14  \n",
      "26222                1087               14  \n",
      "27876                 129               14  \n",
      "5734                  144               13  \n",
      "...                   ...              ...  \n",
      "3253                  389                1  \n",
      "4138                  124                1  \n",
      "2357                   78                1  \n",
      "15052                  92                1  \n",
      "4710                  341                1  \n",
      "\n",
      "[30000 rows x 10 columns]\n"
     ]
    }
   ],
   "source": [
    "sorted_recipes = recipes.sort_values(by='name_word_count', ascending=False)\n",
    "print(sorted_recipes)\n",
    "# Сохранение отсортированной таблицы в виде файла .csv\n",
    "sorted_recipes.to_csv('sorted_recipes.csv', index=False)"
   ]
  },
  {
   "cell_type": "markdown",
   "metadata": {},
   "source": [
    "6.2 Воспользовавшись `pd.ExcelWriter`, cохраните результаты 5.1 и 5.2 в файл: на лист с названием `Рецепты с оценками` сохраните результаты выполнения 5.1; на лист с названием `Количество отзывов по рецептам` сохраните результаты выполнения 5.2."
   ]
  },
  {
   "cell_type": "code",
   "execution_count": 67,
   "metadata": {},
   "outputs": [],
   "source": [
    "# Сохранение результатов в Excel файл\n",
    "with pd.ExcelWriter('рецепты_с_оценками.xlsx') as writer:\n",
    "    filtered_data.to_excel(writer, sheet_name='Рецепты с оценками', index=False)\n",
    "    result.to_excel(writer, sheet_name='Количество отзывов по рецептам', index=False)"
   ]
  },
  {
   "cell_type": "markdown",
   "metadata": {},
   "source": [
    "#### [версия 2]\n",
    "* Уточнены формулировки задач 1.1, 3.3, 4.2, 5.1, 5.2, 5.3"
   ]
  },
  {
   "cell_type": "code",
   "execution_count": null,
   "metadata": {},
   "outputs": [],
   "source": []
  }
 ],
 "metadata": {
  "kernelspec": {
   "display_name": "Python 3 (ipykernel)",
   "language": "python",
   "name": "python3"
  },
  "language_info": {
   "codemirror_mode": {
    "name": "ipython",
    "version": 3
   },
   "file_extension": ".py",
   "mimetype": "text/x-python",
   "name": "python",
   "nbconvert_exporter": "python",
   "pygments_lexer": "ipython3",
   "version": "3.11.5"
  }
 },
 "nbformat": 4,
 "nbformat_minor": 4
}
